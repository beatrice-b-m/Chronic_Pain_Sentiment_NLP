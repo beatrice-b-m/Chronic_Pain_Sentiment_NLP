{
 "cells": [
  {
   "cell_type": "markdown",
   "metadata": {},
   "source": [
    "**Train/Test/Val Data Split**\n",
    "\n",
    "We adopt the same portion (60% training, 20% validation, and 20% tes) as we used in the classifier training."
   ]
  },
  {
   "cell_type": "code",
   "execution_count": 1,
   "metadata": {},
   "outputs": [
    {
     "name": "stderr",
     "output_type": "stream",
     "text": [
      "/home/tbrow51/.conda/envs/transformers/lib/python3.9/site-packages/tqdm/auto.py:21: TqdmWarning: IProgress not found. Please update jupyter and ipywidgets. See https://ipywidgets.readthedocs.io/en/stable/user_install.html\n",
      "  from .autonotebook import tqdm as notebook_tqdm\n"
     ]
    }
   ],
   "source": [
    "import os\n",
    "os.environ[\"CUDA_VISIBLE_DEVICES\"] = \"3\"\n",
    "\n",
    "# !pip install demoji\n",
    "import demoji\n",
    "import pandas as pd\n",
    "import random\n",
    "from dataclasses import dataclass\n",
    "import numpy as np\n",
    "import torch\n",
    "# import seaborn as sns\n",
    "import transformers\n",
    "import json\n",
    "import glob\n",
    "from tqdm import tqdm\n",
    "from pathlib import Path\n",
    "from torch.utils.data import Dataset, DataLoader\n",
    "from transformers import RobertaModel, RobertaTokenizer\n",
    "from torchmetrics import MetricCollection\n",
    "from torchmetrics.classification import Accuracy, AUROC, F1Score, Precision, Recall\n",
    "from itertools import chain\n",
    "\n",
    "# import tensorflow as tf\n",
    "# from tensorflow import keras\n",
    "\n",
    "# from transformers import RobertaTokenizerFast\n",
    "# from transformers import TFRobertaModel\n",
    "\n",
    "from sklearn.metrics import accuracy_score, f1_score\n",
    "from sklearn.metrics import classification_report, confusion_matrix\n",
    "\n"
   ]
  },
  {
   "cell_type": "code",
   "execution_count": 2,
   "metadata": {},
   "outputs": [
    {
     "name": "stdout",
     "output_type": "stream",
     "text": [
      "seed set...\n"
     ]
    }
   ],
   "source": [
    "def seed_script(seed: int):\n",
    "    # set torch seed\n",
    "    torch.manual_seed(seed)\n",
    "    torch.cuda.manual_seed(seed)\n",
    "    torch.cuda.manual_seed_all(seed)\n",
    "    \n",
    "    # set numpy seed\n",
    "    np.random.seed(seed)\n",
    "    print(\"seed set...\")\n",
    "    \n",
    "SEED = 13\n",
    "seed_script(SEED)"
   ]
  },
  {
   "cell_type": "code",
   "execution_count": 3,
   "metadata": {},
   "outputs": [
    {
     "name": "stdout",
     "output_type": "stream",
     "text": [
      "using cuda device...\n"
     ]
    }
   ],
   "source": [
    "# get cpu, gpu or mps device for training.\n",
    "device = (\n",
    "    \"cuda\"\n",
    "    if torch.cuda.is_available()\n",
    "    else \"mps\"\n",
    "    if torch.backends.mps.is_available()\n",
    "    else \"cpu\"\n",
    ")\n",
    "print(f\"using {device} device...\")"
   ]
  },
  {
   "cell_type": "code",
   "execution_count": 4,
   "metadata": {},
   "outputs": [
    {
     "data": {
      "text/html": [
       "<div>\n",
       "<style scoped>\n",
       "    .dataframe tbody tr th:only-of-type {\n",
       "        vertical-align: middle;\n",
       "    }\n",
       "\n",
       "    .dataframe tbody tr th {\n",
       "        vertical-align: top;\n",
       "    }\n",
       "\n",
       "    .dataframe thead th {\n",
       "        text-align: right;\n",
       "    }\n",
       "</style>\n",
       "<table border=\"1\" class=\"dataframe\">\n",
       "  <thead>\n",
       "    <tr style=\"text-align: right;\">\n",
       "      <th></th>\n",
       "      <th>index</th>\n",
       "      <th>Unnamed: 0.1</th>\n",
       "      <th>Unnamed: 0</th>\n",
       "      <th>screen_name</th>\n",
       "      <th>created_at</th>\n",
       "      <th>sampled_at</th>\n",
       "      <th>id_str</th>\n",
       "      <th>text</th>\n",
       "      <th>tweet_id</th>\n",
       "      <th>location</th>\n",
       "      <th>keyword</th>\n",
       "      <th>collection_site</th>\n",
       "      <th>prediction</th>\n",
       "      <th>binary_pred</th>\n",
       "      <th>general_sentiment</th>\n",
       "      <th>provider_sentiment</th>\n",
       "    </tr>\n",
       "  </thead>\n",
       "  <tbody>\n",
       "    <tr>\n",
       "      <th>0</th>\n",
       "      <td>53922</td>\n",
       "      <td>32828</td>\n",
       "      <td>32828</td>\n",
       "      <td>nomadicism</td>\n",
       "      <td>2009-12-15 04:28:45+00:00</td>\n",
       "      <td>2022-04-17 15:45:21+00:00</td>\n",
       "      <td>9.691240e+07</td>\n",
       "      <td>&lt;user&gt; i sure as fuck am. i'm in texas visitin...</td>\n",
       "      <td>1.515720e+18</td>\n",
       "      <td>NaN</td>\n",
       "      <td>chronicpain</td>\n",
       "      <td>Emory</td>\n",
       "      <td>0.969140</td>\n",
       "      <td>True</td>\n",
       "      <td>0.0</td>\n",
       "      <td>0.0</td>\n",
       "    </tr>\n",
       "    <tr>\n",
       "      <th>1</th>\n",
       "      <td>73070</td>\n",
       "      <td>51976</td>\n",
       "      <td>51976</td>\n",
       "      <td>jaexjoongs</td>\n",
       "      <td>2009-04-02 14:03:23+00:00</td>\n",
       "      <td>2022-03-24 22:23:16+00:00</td>\n",
       "      <td>2.834280e+07</td>\n",
       "      <td>so tired of chronic pain and this is the most ...</td>\n",
       "      <td>1.507120e+18</td>\n",
       "      <td>Cleveland, OH - Parma Heights</td>\n",
       "      <td>chronicpain</td>\n",
       "      <td>Emory</td>\n",
       "      <td>0.966829</td>\n",
       "      <td>True</td>\n",
       "      <td>-1.0</td>\n",
       "      <td>0.0</td>\n",
       "    </tr>\n",
       "    <tr>\n",
       "      <th>2</th>\n",
       "      <td>53922</td>\n",
       "      <td>32828</td>\n",
       "      <td>32828</td>\n",
       "      <td>nomadicism</td>\n",
       "      <td>2009-12-15 04:28:45+00:00</td>\n",
       "      <td>2022-04-17 15:45:21+00:00</td>\n",
       "      <td>9.691240e+07</td>\n",
       "      <td>&lt;user&gt; i sure as fuck am. i'm in texas visitin...</td>\n",
       "      <td>1.515720e+18</td>\n",
       "      <td>NaN</td>\n",
       "      <td>chronicpain</td>\n",
       "      <td>Emory</td>\n",
       "      <td>0.969140</td>\n",
       "      <td>True</td>\n",
       "      <td>-1.0</td>\n",
       "      <td>0.0</td>\n",
       "    </tr>\n",
       "    <tr>\n",
       "      <th>3</th>\n",
       "      <td>73070</td>\n",
       "      <td>51976</td>\n",
       "      <td>51976</td>\n",
       "      <td>jaexjoongs</td>\n",
       "      <td>2009-04-02 14:03:23+00:00</td>\n",
       "      <td>2022-03-24 22:23:16+00:00</td>\n",
       "      <td>2.834280e+07</td>\n",
       "      <td>so tired of chronic pain and this is the most ...</td>\n",
       "      <td>1.507120e+18</td>\n",
       "      <td>Cleveland, OH - Parma Heights</td>\n",
       "      <td>chronicpain</td>\n",
       "      <td>Emory</td>\n",
       "      <td>0.966829</td>\n",
       "      <td>True</td>\n",
       "      <td>-1.0</td>\n",
       "      <td>0.0</td>\n",
       "    </tr>\n",
       "    <tr>\n",
       "      <th>4</th>\n",
       "      <td>58412</td>\n",
       "      <td>37318</td>\n",
       "      <td>37318</td>\n",
       "      <td>ThisIsNotSoph</td>\n",
       "      <td>2009-08-11 00:11:24+00:00</td>\n",
       "      <td>2022-04-11 21:40:36+00:00</td>\n",
       "      <td>6.456067e+07</td>\n",
       "      <td>'build &lt;allcaps&gt; the &lt;allcaps&gt; life &lt;allcaps&gt; ...</td>\n",
       "      <td>1.513630e+18</td>\n",
       "      <td>England, United Kingdom</td>\n",
       "      <td>chronicpain</td>\n",
       "      <td>Emory</td>\n",
       "      <td>0.972532</td>\n",
       "      <td>True</td>\n",
       "      <td>-1.0</td>\n",
       "      <td>0.0</td>\n",
       "    </tr>\n",
       "    <tr>\n",
       "      <th>...</th>\n",
       "      <td>...</td>\n",
       "      <td>...</td>\n",
       "      <td>...</td>\n",
       "      <td>...</td>\n",
       "      <td>...</td>\n",
       "      <td>...</td>\n",
       "      <td>...</td>\n",
       "      <td>...</td>\n",
       "      <td>...</td>\n",
       "      <td>...</td>\n",
       "      <td>...</td>\n",
       "      <td>...</td>\n",
       "      <td>...</td>\n",
       "      <td>...</td>\n",
       "      <td>...</td>\n",
       "      <td>...</td>\n",
       "    </tr>\n",
       "    <tr>\n",
       "      <th>919</th>\n",
       "      <td>22544</td>\n",
       "      <td>1450</td>\n",
       "      <td>1450</td>\n",
       "      <td>Aunt_Linda_Eliz</td>\n",
       "      <td>2017-01-26 07:43:56+00:00</td>\n",
       "      <td>2022-05-22 08:35:25+00:00</td>\n",
       "      <td>8.245233e+17</td>\n",
       "      <td>&lt;user&gt; sorry, i'm just here for the chronic pa...</td>\n",
       "      <td>1.528293e+18</td>\n",
       "      <td>From the Barn to the Barnyard</td>\n",
       "      <td>chronicpain</td>\n",
       "      <td>Emory</td>\n",
       "      <td>0.965037</td>\n",
       "      <td>True</td>\n",
       "      <td>0.0</td>\n",
       "      <td>0.0</td>\n",
       "    </tr>\n",
       "    <tr>\n",
       "      <th>920</th>\n",
       "      <td>110722</td>\n",
       "      <td>89628</td>\n",
       "      <td>89628</td>\n",
       "      <td>StantonWidow151</td>\n",
       "      <td>2017-04-05 03:23:33+00:00</td>\n",
       "      <td>2022-02-05 02:38:25+00:00</td>\n",
       "      <td>8.494625e+17</td>\n",
       "      <td>&lt;user&gt; as someone who suffers from chronic pai...</td>\n",
       "      <td>1.489790e+18</td>\n",
       "      <td>United States</td>\n",
       "      <td>chronicpain</td>\n",
       "      <td>Emory</td>\n",
       "      <td>0.966997</td>\n",
       "      <td>True</td>\n",
       "      <td>-1.0</td>\n",
       "      <td>0.0</td>\n",
       "    </tr>\n",
       "    <tr>\n",
       "      <th>921</th>\n",
       "      <td>9567</td>\n",
       "      <td>9567</td>\n",
       "      <td>9567</td>\n",
       "      <td>smashingthanku</td>\n",
       "      <td>2011-12-03 13:48:13+00:00</td>\n",
       "      <td>2022-04-07 03:46:01+00:00</td>\n",
       "      <td>4.274030e+08</td>\n",
       "      <td>fibro flare. i never sleep. &lt;hashtag&gt; theonlyt...</td>\n",
       "      <td>1.511913e+18</td>\n",
       "      <td>NaN</td>\n",
       "      <td>#chronicpain</td>\n",
       "      <td>Emory</td>\n",
       "      <td>0.952321</td>\n",
       "      <td>True</td>\n",
       "      <td>-1.0</td>\n",
       "      <td>0.0</td>\n",
       "    </tr>\n",
       "    <tr>\n",
       "      <th>922</th>\n",
       "      <td>39080</td>\n",
       "      <td>17986</td>\n",
       "      <td>17986</td>\n",
       "      <td>jobeans_</td>\n",
       "      <td>2021-06-23 01:04:01+00:00</td>\n",
       "      <td>2022-05-05 00:07:31+00:00</td>\n",
       "      <td>1.407505e+18</td>\n",
       "      <td>having sex when u have chronic pain like\\n\\now...</td>\n",
       "      <td>1.522005e+18</td>\n",
       "      <td>Lenapehaking</td>\n",
       "      <td>chronicpain</td>\n",
       "      <td>Emory</td>\n",
       "      <td>0.967055</td>\n",
       "      <td>True</td>\n",
       "      <td>-1.0</td>\n",
       "      <td>0.0</td>\n",
       "    </tr>\n",
       "    <tr>\n",
       "      <th>923</th>\n",
       "      <td>80642</td>\n",
       "      <td>59548</td>\n",
       "      <td>59548</td>\n",
       "      <td>mysskcalluvr</td>\n",
       "      <td>2018-05-22 02:43:41+00:00</td>\n",
       "      <td>2022-03-15 00:56:34+00:00</td>\n",
       "      <td>9.987563e+17</td>\n",
       "      <td>starting to think i have a chronic pain condit...</td>\n",
       "      <td>1.503536e+18</td>\n",
       "      <td>NaN</td>\n",
       "      <td>chronicpain</td>\n",
       "      <td>Emory</td>\n",
       "      <td>0.979968</td>\n",
       "      <td>True</td>\n",
       "      <td>0.0</td>\n",
       "      <td>0.0</td>\n",
       "    </tr>\n",
       "  </tbody>\n",
       "</table>\n",
       "<p>924 rows × 16 columns</p>\n",
       "</div>"
      ],
      "text/plain": [
       "      index  Unnamed: 0.1  Unnamed: 0      screen_name  \\\n",
       "0     53922         32828       32828       nomadicism   \n",
       "1     73070         51976       51976       jaexjoongs   \n",
       "2     53922         32828       32828       nomadicism   \n",
       "3     73070         51976       51976       jaexjoongs   \n",
       "4     58412         37318       37318    ThisIsNotSoph   \n",
       "..      ...           ...         ...              ...   \n",
       "919   22544          1450        1450  Aunt_Linda_Eliz   \n",
       "920  110722         89628       89628  StantonWidow151   \n",
       "921    9567          9567        9567   smashingthanku   \n",
       "922   39080         17986       17986         jobeans_   \n",
       "923   80642         59548       59548     mysskcalluvr   \n",
       "\n",
       "                    created_at                 sampled_at        id_str  \\\n",
       "0    2009-12-15 04:28:45+00:00  2022-04-17 15:45:21+00:00  9.691240e+07   \n",
       "1    2009-04-02 14:03:23+00:00  2022-03-24 22:23:16+00:00  2.834280e+07   \n",
       "2    2009-12-15 04:28:45+00:00  2022-04-17 15:45:21+00:00  9.691240e+07   \n",
       "3    2009-04-02 14:03:23+00:00  2022-03-24 22:23:16+00:00  2.834280e+07   \n",
       "4    2009-08-11 00:11:24+00:00  2022-04-11 21:40:36+00:00  6.456067e+07   \n",
       "..                         ...                        ...           ...   \n",
       "919  2017-01-26 07:43:56+00:00  2022-05-22 08:35:25+00:00  8.245233e+17   \n",
       "920  2017-04-05 03:23:33+00:00  2022-02-05 02:38:25+00:00  8.494625e+17   \n",
       "921  2011-12-03 13:48:13+00:00  2022-04-07 03:46:01+00:00  4.274030e+08   \n",
       "922  2021-06-23 01:04:01+00:00  2022-05-05 00:07:31+00:00  1.407505e+18   \n",
       "923  2018-05-22 02:43:41+00:00  2022-03-15 00:56:34+00:00  9.987563e+17   \n",
       "\n",
       "                                                  text      tweet_id  \\\n",
       "0    <user> i sure as fuck am. i'm in texas visitin...  1.515720e+18   \n",
       "1    so tired of chronic pain and this is the most ...  1.507120e+18   \n",
       "2    <user> i sure as fuck am. i'm in texas visitin...  1.515720e+18   \n",
       "3    so tired of chronic pain and this is the most ...  1.507120e+18   \n",
       "4    'build <allcaps> the <allcaps> life <allcaps> ...  1.513630e+18   \n",
       "..                                                 ...           ...   \n",
       "919  <user> sorry, i'm just here for the chronic pa...  1.528293e+18   \n",
       "920  <user> as someone who suffers from chronic pai...  1.489790e+18   \n",
       "921  fibro flare. i never sleep. <hashtag> theonlyt...  1.511913e+18   \n",
       "922  having sex when u have chronic pain like\\n\\now...  1.522005e+18   \n",
       "923  starting to think i have a chronic pain condit...  1.503536e+18   \n",
       "\n",
       "                           location       keyword collection_site  prediction  \\\n",
       "0                               NaN   chronicpain           Emory    0.969140   \n",
       "1    Cleveland, OH - Parma Heights    chronicpain           Emory    0.966829   \n",
       "2                               NaN   chronicpain           Emory    0.969140   \n",
       "3    Cleveland, OH - Parma Heights    chronicpain           Emory    0.966829   \n",
       "4           England, United Kingdom   chronicpain           Emory    0.972532   \n",
       "..                              ...           ...             ...         ...   \n",
       "919   From the Barn to the Barnyard   chronicpain           Emory    0.965037   \n",
       "920                   United States   chronicpain           Emory    0.966997   \n",
       "921                             NaN  #chronicpain           Emory    0.952321   \n",
       "922                    Lenapehaking   chronicpain           Emory    0.967055   \n",
       "923                             NaN   chronicpain           Emory    0.979968   \n",
       "\n",
       "     binary_pred  general_sentiment  provider_sentiment  \n",
       "0           True                0.0                 0.0  \n",
       "1           True               -1.0                 0.0  \n",
       "2           True               -1.0                 0.0  \n",
       "3           True               -1.0                 0.0  \n",
       "4           True               -1.0                 0.0  \n",
       "..           ...                ...                 ...  \n",
       "919         True                0.0                 0.0  \n",
       "920         True               -1.0                 0.0  \n",
       "921         True               -1.0                 0.0  \n",
       "922         True               -1.0                 0.0  \n",
       "923         True                0.0                 0.0  \n",
       "\n",
       "[924 rows x 16 columns]"
      ]
     },
     "execution_count": 4,
     "metadata": {},
     "output_type": "execute_result"
    }
   ],
   "source": [
    "file_path = \"/opt/localdata/Data/bea/nlp/bmi550/project/sentiment_data/combined_tweets.csv\"\n",
    "df = pd.read_csv(file_path)\n",
    "df"
   ]
  },
  {
   "cell_type": "code",
   "execution_count": 5,
   "metadata": {},
   "outputs": [
    {
     "name": "stdout",
     "output_type": "stream",
     "text": [
      "<class 'pandas.core.frame.DataFrame'>\n",
      "RangeIndex: 924 entries, 0 to 923\n",
      "Data columns (total 16 columns):\n",
      " #   Column              Non-Null Count  Dtype  \n",
      "---  ------              --------------  -----  \n",
      " 0   index               924 non-null    int64  \n",
      " 1   Unnamed: 0.1        924 non-null    int64  \n",
      " 2   Unnamed: 0          924 non-null    int64  \n",
      " 3   screen_name         924 non-null    object \n",
      " 4   created_at          924 non-null    object \n",
      " 5   sampled_at          924 non-null    object \n",
      " 6   id_str              924 non-null    float64\n",
      " 7   text                924 non-null    object \n",
      " 8   tweet_id            924 non-null    float64\n",
      " 9   location            710 non-null    object \n",
      " 10  keyword             924 non-null    object \n",
      " 11  collection_site     924 non-null    object \n",
      " 12  prediction          924 non-null    float64\n",
      " 13  binary_pred         924 non-null    bool   \n",
      " 14  general_sentiment   923 non-null    float64\n",
      " 15  provider_sentiment  923 non-null    float64\n",
      "dtypes: bool(1), float64(5), int64(3), object(7)\n",
      "memory usage: 109.3+ KB\n"
     ]
    }
   ],
   "source": [
    "df.info()"
   ]
  },
  {
   "cell_type": "code",
   "execution_count": 6,
   "metadata": {},
   "outputs": [
    {
     "data": {
      "text/plain": [
       "general_sentiment\n",
       "-1.0    515\n",
       " 0.0    316\n",
       " 1.0     92\n",
       "Name: count, dtype: int64"
      ]
     },
     "execution_count": 6,
     "metadata": {},
     "output_type": "execute_result"
    }
   ],
   "source": [
    "def remove_emojis(text):\n",
    "    return demoji.replace(text,'') #remove emoji\n",
    "\n",
    "df['text'] = df['text'].apply(remove_emojis)\n",
    "\n",
    "df.general_sentiment.value_counts(dropna=True)"
   ]
  },
  {
   "cell_type": "code",
   "execution_count": 7,
   "metadata": {},
   "outputs": [],
   "source": [
    "@dataclass\n",
    "class FrameParams:\n",
    "    df: pd.DataFrame\n",
    "    class_name: str\n",
    "    class_val: float\n",
    "\n",
    "\n",
    "# function to get the set of unique patient ids in the dataframe\n",
    "# then split based on the train/val/test proportion\n",
    "def split_ids(id_col, test_prop, validation, seed):\n",
    "    # get set of unique ids and convert to a list\n",
    "    id_list = list(set(id_col))\n",
    "\n",
    "    # shuffle id list\n",
    "    random.Random(seed).shuffle(id_list)\n",
    "\n",
    "    # get split lengths\n",
    "    id_list_len = len(id_list)\n",
    "\n",
    "    # get the length of indexes to add to the train/test sets\n",
    "    train_prop = 1.0 - (2 * test_prop)\n",
    "    train_len = int(train_prop * id_list_len)\n",
    "    test_len = int(test_prop * id_list_len)\n",
    "\n",
    "    # index set ids\n",
    "    if validation:\n",
    "        train_ids = id_list[:train_len]\n",
    "        val_ids = id_list[train_len:train_len+test_len]\n",
    "\n",
    "    else:\n",
    "        train_ids = id_list[:train_len+test_len]\n",
    "        val_ids = None\n",
    "\n",
    "    test_ids = id_list[train_len+test_len:]\n",
    "\n",
    "    print('total ids:', id_list_len)\n",
    "\n",
    "    print('train ids: {}, prop: {:.3f}'.format(\n",
    "        len(train_ids),\n",
    "        len(train_ids) / id_list_len\n",
    "    ))\n",
    "\n",
    "    if validation:\n",
    "        print('val ids: {}, prop: {:.3f}'.format(\n",
    "            len(val_ids),\n",
    "            len(val_ids) / id_list_len\n",
    "        ))\n",
    "\n",
    "    print('test ids: {}, prop: {:.3f}\\n'.format(\n",
    "        len(test_ids),\n",
    "        len(test_ids) / id_list_len\n",
    "    ))\n",
    "\n",
    "    return train_ids, val_ids, test_ids\n",
    "\n",
    "# function to index pos/neg dataframes by set patient ids and merge them\n",
    "def index_dataframes(df_obj_list, ids, id_var):\n",
    "    # zip pos/neg dataframes and ids\n",
    "    components = zip([df_obj.df for df_obj in df_obj_list], ids)\n",
    "\n",
    "    # index dataframes by ids for pos/neg\n",
    "    df_list = [df[df[id_var].isin(ids)] for df, ids in components]\n",
    "\n",
    "    # merge pos/neg dataframes\n",
    "    out_df = pd.concat(df_list, axis=0)\n",
    "    return out_df\n",
    "\n",
    "# function to split a positive and negative dataframe into train/val/test\n",
    "# then merge positive and negative for each\n",
    "def split_n_dataframes(df_list, id_var: str = 'tweet_id',\n",
    "                       test_prop: float = 0.2, seed: int = 13,\n",
    "                       validation: bool = True, label_col: str = 'label'):\n",
    "    # add label columns to dataframes\n",
    "    for df_obj in df_list:\n",
    "        df_obj.df.loc[:, 'class_label'] = df_obj.class_val\n",
    "\n",
    "    # get empty list to put dataframe set IDs\n",
    "    df_ids = []\n",
    "\n",
    "    # get ids for each split dataframe\n",
    "    for df_obj in df_list:\n",
    "        train_ids, val_ids, test_ids = split_ids(\n",
    "            df_obj.df[id_var],\n",
    "            test_prop,\n",
    "            validation,\n",
    "            seed\n",
    "        )\n",
    "        df_ids.append([train_ids, val_ids, test_ids])\n",
    "\n",
    "    # transpose list to get sublists of all train set IDs, val sets IDs, etc.\n",
    "    trans_df_ids = [i for i in zip(*df_ids)]\n",
    "\n",
    "    # prepare lists for indexing\n",
    "    train_ids = trans_df_ids[0]\n",
    "    val_ids = trans_df_ids[1]\n",
    "    test_ids = trans_df_ids[2]\n",
    "\n",
    "    # index split dataframes\n",
    "    train_df = index_dataframes(df_list, train_ids, id_var)\n",
    "    test_df = index_dataframes(df_list, test_ids, id_var)\n",
    "    if validation:\n",
    "        val_df = index_dataframes(df_list, val_ids, id_var)\n",
    "\n",
    "    # shuffle dataframes\n",
    "    train_df = train_df.sample(frac=1, random_state=seed).reset_index()\n",
    "    test_df = test_df.sample(frac=1, random_state=seed).reset_index()\n",
    "    if validation:\n",
    "        val_df = val_df.sample(frac=1, random_state=seed).reset_index()\n",
    "    else:\n",
    "        val_df = None\n",
    "\n",
    "    return train_df, val_df, test_df"
   ]
  },
  {
   "cell_type": "code",
   "execution_count": 8,
   "metadata": {},
   "outputs": [
    {
     "name": "stdout",
     "output_type": "stream",
     "text": [
      "total ids: 139\n",
      "train ids: 83, prop: 0.597\n",
      "val ids: 27, prop: 0.194\n",
      "test ids: 29, prop: 0.209\n",
      "\n",
      "total ids: 735\n",
      "train ids: 441, prop: 0.600\n",
      "val ids: 147, prop: 0.200\n",
      "test ids: 147, prop: 0.200\n",
      "\n",
      "total ids: 20\n",
      "train ids: 12, prop: 0.600\n",
      "val ids: 4, prop: 0.200\n",
      "test ids: 4, prop: 0.200\n",
      "\n",
      "train size: 553\n",
      "val size: 183\n",
      "test size: 187\n"
     ]
    },
    {
     "name": "stderr",
     "output_type": "stream",
     "text": [
      "/tmp/ipykernel_781131/1235383812.py:75: SettingWithCopyWarning: \n",
      "A value is trying to be set on a copy of a slice from a DataFrame.\n",
      "Try using .loc[row_indexer,col_indexer] = value instead\n",
      "\n",
      "See the caveats in the documentation: https://pandas.pydata.org/pandas-docs/stable/user_guide/indexing.html#returning-a-view-versus-a-copy\n",
      "  df_obj.df.loc[:, 'class_label'] = df_obj.class_val\n",
      "/tmp/ipykernel_781131/1235383812.py:75: SettingWithCopyWarning: \n",
      "A value is trying to be set on a copy of a slice from a DataFrame.\n",
      "Try using .loc[row_indexer,col_indexer] = value instead\n",
      "\n",
      "See the caveats in the documentation: https://pandas.pydata.org/pandas-docs/stable/user_guide/indexing.html#returning-a-view-versus-a-copy\n",
      "  df_obj.df.loc[:, 'class_label'] = df_obj.class_val\n",
      "/tmp/ipykernel_781131/1235383812.py:75: SettingWithCopyWarning: \n",
      "A value is trying to be set on a copy of a slice from a DataFrame.\n",
      "Try using .loc[row_indexer,col_indexer] = value instead\n",
      "\n",
      "See the caveats in the documentation: https://pandas.pydata.org/pandas-docs/stable/user_guide/indexing.html#returning-a-view-versus-a-copy\n",
      "  df_obj.df.loc[:, 'class_label'] = df_obj.class_val\n"
     ]
    }
   ],
   "source": [
    "df_negative = FrameParams(df=df[df['provider_sentiment'] == -1], class_name='negative', class_val=0)\n",
    "df_neutral = FrameParams(df=df[df['provider_sentiment'] == 0], class_name='neutral', class_val=1)\n",
    "df_positive = FrameParams(df=df[df['provider_sentiment'] == 1], class_name='positive', class_val=2)\n",
    "\n",
    "df_list = [df_negative, df_neutral, df_positive]\n",
    "train_df, val_df, test_df = split_n_dataframes(df_list, id_var='tweet_id', test_prop=0.2, seed=13, validation=True)\n",
    "\n",
    "print('train size:', len(train_df))\n",
    "print('val size:', len(val_df))\n",
    "print('test size:', len(test_df))"
   ]
  },
  {
   "cell_type": "code",
   "execution_count": 9,
   "metadata": {},
   "outputs": [
    {
     "name": "stdout",
     "output_type": "stream",
     "text": [
      "\n",
      "train distribution:\n",
      "class_label\n",
      "1    0.826401\n",
      "0    0.151899\n",
      "2    0.021700\n",
      "Name: proportion, dtype: float64\n",
      "\n",
      "val distribution:\n",
      "class_label\n",
      "1    0.830601\n",
      "0    0.147541\n",
      "2    0.021858\n",
      "Name: proportion, dtype: float64\n",
      "\n",
      "test distribution:\n",
      "class_label\n",
      "1    0.818182\n",
      "0    0.160428\n",
      "2    0.021390\n",
      "Name: proportion, dtype: float64\n"
     ]
    }
   ],
   "source": [
    "print(f'\\ntrain distribution:\\n{train_df.class_label.value_counts(dropna=False, normalize=True)}')\n",
    "print(f'\\nval distribution:\\n{val_df.class_label.value_counts(dropna=False, normalize=True)}')\n",
    "print(f'\\ntest distribution:\\n{test_df.class_label.value_counts(dropna=False, normalize=True)}')"
   ]
  },
  {
   "cell_type": "code",
   "execution_count": 10,
   "metadata": {},
   "outputs": [
    {
     "name": "stdout",
     "output_type": "stream",
     "text": [
      "\n",
      "train distribution:\n",
      "class_label\n",
      "1    457\n",
      "0     84\n",
      "2     12\n",
      "Name: count, dtype: int64\n",
      "\n",
      "val distribution:\n",
      "class_label\n",
      "1    152\n",
      "0     27\n",
      "2      4\n",
      "Name: count, dtype: int64\n",
      "\n",
      "test distribution:\n",
      "class_label\n",
      "1    153\n",
      "0     30\n",
      "2      4\n",
      "Name: count, dtype: int64\n"
     ]
    }
   ],
   "source": [
    "print(f'\\ntrain distribution:\\n{train_df.class_label.value_counts(dropna=False, normalize=False)}')\n",
    "print(f'\\nval distribution:\\n{val_df.class_label.value_counts(dropna=False, normalize=False)}')\n",
    "print(f'\\ntest distribution:\\n{test_df.class_label.value_counts(dropna=False, normalize=False)}')"
   ]
  },
  {
   "cell_type": "markdown",
   "metadata": {},
   "source": [
    "**RoBERTa Sentiment Analysis (Provider Sentiment)** "
   ]
  },
  {
   "cell_type": "code",
   "execution_count": 11,
   "metadata": {},
   "outputs": [],
   "source": [
    "# load roberta base as a tokenizer\n",
    "tokenizer = RobertaTokenizer.from_pretrained('roberta-base', truncation=True, do_lower_case=True)"
   ]
  },
  {
   "cell_type": "code",
   "execution_count": 12,
   "metadata": {},
   "outputs": [],
   "source": [
    "class TweetDataset(Dataset):\n",
    "    \"\"\"\n",
    "    class is very closely based on the huggingface tutorial implementation\n",
    "    \"\"\"\n",
    "    def __init__(self, dataframe, tokenizer, max_len, id_col: str = 'tweet_id',\n",
    "                 text_col: str = 'text', target_col: str = 'class_label'):\n",
    "        self.tokenizer = tokenizer\n",
    "        # self.data = dataframe\n",
    "        self.tweet_id_list = list(dataframe[id_col])\n",
    "        self.text_list = list(dataframe[text_col])\n",
    "        self.label_list = list(dataframe[target_col])\n",
    "        self.max_len = max_len\n",
    "\n",
    "    def __len__(self):\n",
    "        # get length of dataset (required for dataloader)\n",
    "        return len(self.text_list)\n",
    "\n",
    "    def __getitem__(self, idx):\n",
    "        # extract text\n",
    "        text = str(self.text_list[idx])\n",
    "\n",
    "        # extract label\n",
    "        label = self.label_list[idx]\n",
    "\n",
    "        # tokenize text\n",
    "        encoded_text = self.tokenizer.encode_plus(\n",
    "            text,\n",
    "            # add_special_tokens=True,\n",
    "            truncation=True,\n",
    "            max_length=self.max_len,\n",
    "            padding='max_length',\n",
    "            return_token_type_ids=True\n",
    "        )\n",
    "\n",
    "        # unpack encoded text\n",
    "        ids = encoded_text['input_ids']\n",
    "        attention_mask = encoded_text['attention_mask']\n",
    "        token_type_ids = encoded_text[\"token_type_ids\"]\n",
    "\n",
    "        # wrap outputs in dict\n",
    "        out_dict = {\n",
    "            'tweet_id_list': self.tweet_id_list,\n",
    "            'id_tensor': torch.tensor(ids, dtype=torch.long),\n",
    "            'mask_tensor': torch.tensor(attention_mask, dtype=torch.long),\n",
    "            'token_type_tensor': torch.tensor(token_type_ids, dtype=torch.long),\n",
    "            'label_tensor': torch.tensor(label, dtype=torch.long)\n",
    "        }\n",
    "\n",
    "        return out_dict"
   ]
  },
  {
   "cell_type": "code",
   "execution_count": 13,
   "metadata": {},
   "outputs": [],
   "source": [
    "MAX_LEN = 128\n",
    "\n",
    "# load dataframes into dataset objects\n",
    "train_ds = TweetDataset(train_df, tokenizer, MAX_LEN)\n",
    "val_ds = TweetDataset(val_df, tokenizer, MAX_LEN)\n",
    "test_ds = TweetDataset(test_df, tokenizer, MAX_LEN)"
   ]
  },
  {
   "cell_type": "code",
   "execution_count": 14,
   "metadata": {},
   "outputs": [],
   "source": [
    "def get_dataloader(dataset, batch_size, shuffle: bool = True,\n",
    "                   pin_memory: bool = True, num_workers: int = 0,\n",
    "                   prefetch_factor: int or None = None):\n",
    "    dataloader = DataLoader(\n",
    "        dataset,\n",
    "        batch_size=batch_size,\n",
    "        shuffle=shuffle,\n",
    "        pin_memory=pin_memory,\n",
    "        num_workers=num_workers,\n",
    "        prefetch_factor=prefetch_factor\n",
    "    )\n",
    "    return dataloader\n",
    "\n",
    "BATCH_SIZE = 256\n",
    "\n",
    "# load datasets into loaders\n",
    "train_loader = get_dataloader(train_ds, BATCH_SIZE)\n",
    "val_loader = get_dataloader(val_ds, BATCH_SIZE)\n",
    "test_loader = get_dataloader(test_ds, BATCH_SIZE)"
   ]
  },
  {
   "cell_type": "code",
   "execution_count": 15,
   "metadata": {},
   "outputs": [],
   "source": [
    "class CustomRoberta(torch.nn.Module):\n",
    "    \"\"\"\n",
    "    model subclass to define the RoBERTa architecture, also closely based on\n",
    "    the huggingface tutorial implementation\n",
    "    \"\"\"\n",
    "    def __init__(self, drop_percent, num_classes, pt_model_name: str = 'roberta-base'):\n",
    "        super().__init__()\n",
    "        self.base_model = RobertaModel.from_pretrained(pt_model_name)\n",
    "        self.pre_classifier = torch.nn.Linear(768, 768)\n",
    "        self.dropout = torch.nn.Dropout(drop_percent)\n",
    "        self.classifier = torch.nn.Linear(768, num_classes)\n",
    "\n",
    "    def forward(self, input_ids, attention_mask, token_type_ids):\n",
    "        # get outputs from base model\n",
    "        base_outputs = self.base_model(\n",
    "            input_ids=input_ids,\n",
    "            attention_mask=attention_mask,\n",
    "            token_type_ids=token_type_ids\n",
    "        )\n",
    "        # extract hidden state from roberta base outputs\n",
    "        hidden_state = base_outputs[0]\n",
    "        x = hidden_state[:, 0]\n",
    "\n",
    "        # define the linear layer preceding the classifier\n",
    "        # and apply ReLU activation to its outputs\n",
    "        x = self.pre_classifier(x)\n",
    "        x = torch.nn.ReLU()(x)\n",
    "\n",
    "        # define the dropout layer and classifier\n",
    "        # and apply Softmax activation to its outputs\n",
    "        x = self.dropout(x)\n",
    "        x = self.classifier(x)\n",
    "        # outputs = torch.nn.Softmax(dim=-1)(x)\n",
    "        return x #outputs"
   ]
  },
  {
   "cell_type": "code",
   "execution_count": 16,
   "metadata": {},
   "outputs": [],
   "source": [
    "def train_model(model, loader_dict, metric_collection, \n",
    "                criterion, optimizer, save_dir: str or None = None, \n",
    "                num_epochs: int = 25, monitor_metric: str = 'val_loss'):\n",
    "    if save_dir is not None:\n",
    "        # if save dir doesn't exist, make it\n",
    "        Path(save_dir).mkdir(parents=True, exist_ok=True)\n",
    "        model_save_path = os.path.join(save_dir, 'best_model_params.pth')\n",
    "    \n",
    "    # save base weights\n",
    "    torch.save(model.state_dict(), model_save_path)\n",
    "\n",
    "    # initialize the best metric based on what the monitor metric is\n",
    "    # (and if it should be maximized or minimized)\n",
    "    if monitor_metric.split('_')[-1] == 'loss':\n",
    "        best_metric = np.inf\n",
    "    else:\n",
    "        best_metric = -np.inf\n",
    "\n",
    "    # iterate over epochs\n",
    "    for epoch in range(num_epochs):\n",
    "        print(f\"\\nEpoch {epoch} {'-' * 40}\")\n",
    "\n",
    "        # Each epoch has a training and validation phase\n",
    "        for phase in ['train', 'val']:\n",
    "            if phase == 'train':\n",
    "                model.train()  # Set model to training mode\n",
    "            else:\n",
    "                model.eval()   # Set model to evaluate mode\n",
    "\n",
    "            running_loss = 0.0\n",
    "            # running_size = 0\n",
    "\n",
    "            # select current data loader\n",
    "            phase_loader = loader_dict[phase]\n",
    "            phase_size = len(phase_loader)\n",
    "\n",
    "            # iterate over data in current phase loader\n",
    "            with tqdm(phase_loader, unit=\"batch\", total=phase_size) as epoch_iter:\n",
    "                for batch, data in enumerate(epoch_iter):\n",
    "                    # unpack data dict\n",
    "                    id_tensor = data['id_tensor'].to(device)\n",
    "                    mask_tensor = data['mask_tensor'].to(device)\n",
    "                    token_type_tensor = data['token_type_tensor'].to(device)\n",
    "                    label_tensor = data['label_tensor'].to(device)\n",
    "                    \n",
    "                    # zero the parameter gradients\n",
    "                    optimizer.zero_grad()\n",
    "\n",
    "                    # forward\n",
    "                    # track history if only in train\n",
    "                    with torch.set_grad_enabled(phase == 'train'):\n",
    "                        preds = model(\n",
    "                            id_tensor,\n",
    "                            mask_tensor,\n",
    "                            token_type_tensor\n",
    "                        )\n",
    "                        # preds = outputs\n",
    "                                                \n",
    "                        # preds = torch.squeeze(outputs)\n",
    "                        loss = criterion(preds, label_tensor)\n",
    "\n",
    "                        # update running loss\n",
    "                        running_loss += loss.item() #* label_tensor.size(0)\n",
    "                        # running_size += label_tensor.size(0)\n",
    "\n",
    "                        # update metric collection\n",
    "                        metric_collection.update(preds, label_tensor)\n",
    "\n",
    "                        # backward + optimize only if in training phase\n",
    "                        if phase == 'train':\n",
    "                            loss.backward()\n",
    "                            optimizer.step()\n",
    "\n",
    "                    # update metrics after each 10% chunk\n",
    "                    # or if in val update on last batch\n",
    "                    if ((phase == 'train') & (batch % (max(phase_size // 10, 1)) == 0)) |\\\n",
    "                    ((phase == 'val') & (batch == (phase_size - 1))):\n",
    "                        phase_metrics = metric_collection.compute()\n",
    "\n",
    "                        phase_metrics_dict = format_metrics_dict(\n",
    "                            loss, #/ running_size, \n",
    "                            phase_metrics, \n",
    "                            phase\n",
    "                        )\n",
    "                        epoch_iter.set_postfix(phase_metrics_dict)\n",
    "                        \n",
    "                    \n",
    "\n",
    "            # reset metric collection\n",
    "            metric_collection.reset()\n",
    "            \n",
    "            # save the model weights if the current val monitor metric is the best so far\n",
    "            if (save_dir is not None) & is_metric_better(monitor_metric, phase_metrics_dict, best_metric):\n",
    "                best_metric = phase_metrics_dict[monitor_metric]\n",
    "                \n",
    "                print(f\"saving model with best {monitor_metric} '{best_metric:.4f}'...\")\n",
    "                torch.save(model.state_dict(), model_save_path)\n",
    "\n",
    "    # load best model weights and evaluate on test set\n",
    "    model.load_state_dict(torch.load(model_save_path))\n",
    "    id_list, pred_list, label_list = evaluate_model(model, loader_dict['test'], metric_collection, criterion)\n",
    "    return id_list, pred_list, label_list\n",
    "\n",
    "def evaluate_model(model, test_loader, metric_collection, criterion):\n",
    "    running_loss = 0.0\n",
    "    \n",
    "    tweet_id_list = []\n",
    "    pred_list = []\n",
    "    label_list = []\n",
    "\n",
    "    phase_size = len(test_loader)\n",
    "\n",
    "    # iterate over data in current phase loader\n",
    "    with tqdm(test_loader, unit=\"batch\", total=phase_size) as epoch_iter:\n",
    "        for batch, data in enumerate(epoch_iter):\n",
    "            # unpack data dict\n",
    "            batch_id_list = data['tweet_id_list']\n",
    "            id_tensor = data['id_tensor'].to(device)\n",
    "            mask_tensor = data['mask_tensor'].to(device)\n",
    "            token_type_tensor = data['token_type_tensor'].to(device)\n",
    "            label_tensor = data['label_tensor'].to(device)\n",
    "\n",
    "            # zero the parameter gradients\n",
    "            # optimizer.zero_grad()\n",
    "\n",
    "            # forward\n",
    "            # track history if only in train\n",
    "            with torch.set_grad_enabled(False):\n",
    "                preds = model(\n",
    "                    id_tensor,\n",
    "                    mask_tensor,\n",
    "                    token_type_tensor\n",
    "                )\n",
    "                # preds = outputs # torch.squeeze(outputs)\n",
    "                loss = criterion(preds, label_tensor)\n",
    "\n",
    "                # update running loss\n",
    "                running_loss += loss.item()\n",
    "\n",
    "                # update metric collection\n",
    "                metric_collection.update(preds, label_tensor)\n",
    "                \n",
    "                tweet_id_list += batch_id_list\n",
    "                pred_list.append(preds.detach().cpu()) #.numpy())\n",
    "                label_list.append(label_tensor.detach().cpu().numpy())\n",
    "\n",
    "    phase_metrics = metric_collection.compute()\n",
    "\n",
    "    phase_metrics_dict = format_metrics_dict(\n",
    "        loss,\n",
    "        phase_metrics, \n",
    "        'test'\n",
    "    )\n",
    "\n",
    "    # print metrics\n",
    "    for k, v in phase_metrics_dict.items():\n",
    "        print(f\"{k}: {v:.4f}\")\n",
    "        \n",
    "    return tweet_id_list, pred_list, label_list\n",
    "\n",
    "def is_metric_better(monitor_metric, metrics_dict, best_eval):\n",
    "    \"\"\"\n",
    "    function to determine if the monitor metric should be maximized or minimized\n",
    "    \"\"\"\n",
    "    curr_eval = metrics_dict.get(monitor_metric)\n",
    "    if curr_eval is None:\n",
    "        return False\n",
    "    \n",
    "    if monitor_metric.split('_')[-1] == 'loss':\n",
    "        return curr_eval < best_eval\n",
    "    else:\n",
    "        return curr_eval > best_eval\n",
    "    \n",
    "def format_metrics_dict(loss, metrics_dict, set_name: str):\n",
    "    out_metrics_dict = {}\n",
    "    out_metrics_dict[f'{set_name}_loss'] = loss.item()\n",
    "\n",
    "    for k, v in metrics_dict.items():\n",
    "        out_metrics_dict[f'{set_name}_{k}'] = v.item()\n",
    "\n",
    "    return out_metrics_dict"
   ]
  },
  {
   "cell_type": "code",
   "execution_count": 17,
   "metadata": {},
   "outputs": [
    {
     "data": {
      "text/plain": [
       "MetricCollection(\n",
       "  (acc): MulticlassAccuracy()\n",
       "  (auc): MulticlassAUROC()\n",
       "  (f1): MulticlassF1Score()\n",
       "  (prec): MulticlassPrecision()\n",
       "  (rec): MulticlassRecall()\n",
       ")"
      ]
     },
     "execution_count": 17,
     "metadata": {},
     "output_type": "execute_result"
    }
   ],
   "source": [
    "# define metric collection\n",
    "TASK_TYPE = 'multiclass'\n",
    "NUM_CLASSES = 3\n",
    "\n",
    "metric_collection = MetricCollection({\n",
    "    'acc': Accuracy(task=TASK_TYPE, num_classes=NUM_CLASSES),\n",
    "    'auc': AUROC(task=TASK_TYPE, num_classes=NUM_CLASSES),\n",
    "    'prec': Precision(task=TASK_TYPE, num_classes=NUM_CLASSES),\n",
    "    'rec': Recall(task=TASK_TYPE, num_classes=NUM_CLASSES),\n",
    "    'f1': F1Score(task=TASK_TYPE, num_classes=NUM_CLASSES)\n",
    "})\n",
    "\n",
    "metric_collection.to(device)"
   ]
  },
  {
   "cell_type": "code",
   "execution_count": 18,
   "metadata": {},
   "outputs": [
    {
     "data": {
      "text/plain": [
       "{'dropout_proportion': 0.8407955835921741,\n",
       " 'learning_rate': 6.804249105890377e-05}"
      ]
     },
     "execution_count": 18,
     "metadata": {},
     "output_type": "execute_result"
    }
   ],
   "source": [
    "# extract the best performing parameters based on the monitor metric\n",
    "log_path = \"/opt/localdata/Data/bea/nlp/bmi550/project/Chronic_Pain_Sentiment_NLP/models/provider_sentiment/logs/roberta_opt_3.json\"\n",
    "# open the log file\n",
    "opt_df = pd.read_json(log_path, lines=True)\n",
    "\n",
    "best_idx = opt_df[\"test_f1\"].idxmax()\n",
    "best_param_dict = opt_df.loc[best_idx, 'params']\n",
    "best_param_dict"
   ]
  },
  {
   "cell_type": "code",
   "execution_count": 19,
   "metadata": {},
   "outputs": [
    {
     "name": "stderr",
     "output_type": "stream",
     "text": [
      "Some weights of RobertaModel were not initialized from the model checkpoint at roberta-base and are newly initialized: ['roberta.pooler.dense.weight', 'roberta.pooler.dense.bias']\n",
      "You should probably TRAIN this model on a down-stream task to be able to use it for predictions and inference.\n"
     ]
    },
    {
     "data": {
      "text/plain": [
       "CustomRoberta(\n",
       "  (base_model): RobertaModel(\n",
       "    (embeddings): RobertaEmbeddings(\n",
       "      (word_embeddings): Embedding(50265, 768, padding_idx=1)\n",
       "      (position_embeddings): Embedding(514, 768, padding_idx=1)\n",
       "      (token_type_embeddings): Embedding(1, 768)\n",
       "      (LayerNorm): LayerNorm((768,), eps=1e-05, elementwise_affine=True)\n",
       "      (dropout): Dropout(p=0.1, inplace=False)\n",
       "    )\n",
       "    (encoder): RobertaEncoder(\n",
       "      (layer): ModuleList(\n",
       "        (0-11): 12 x RobertaLayer(\n",
       "          (attention): RobertaAttention(\n",
       "            (self): RobertaSelfAttention(\n",
       "              (query): Linear(in_features=768, out_features=768, bias=True)\n",
       "              (key): Linear(in_features=768, out_features=768, bias=True)\n",
       "              (value): Linear(in_features=768, out_features=768, bias=True)\n",
       "              (dropout): Dropout(p=0.1, inplace=False)\n",
       "            )\n",
       "            (output): RobertaSelfOutput(\n",
       "              (dense): Linear(in_features=768, out_features=768, bias=True)\n",
       "              (LayerNorm): LayerNorm((768,), eps=1e-05, elementwise_affine=True)\n",
       "              (dropout): Dropout(p=0.1, inplace=False)\n",
       "            )\n",
       "          )\n",
       "          (intermediate): RobertaIntermediate(\n",
       "            (dense): Linear(in_features=768, out_features=3072, bias=True)\n",
       "            (intermediate_act_fn): GELUActivation()\n",
       "          )\n",
       "          (output): RobertaOutput(\n",
       "            (dense): Linear(in_features=3072, out_features=768, bias=True)\n",
       "            (LayerNorm): LayerNorm((768,), eps=1e-05, elementwise_affine=True)\n",
       "            (dropout): Dropout(p=0.1, inplace=False)\n",
       "          )\n",
       "        )\n",
       "      )\n",
       "    )\n",
       "    (pooler): RobertaPooler(\n",
       "      (dense): Linear(in_features=768, out_features=768, bias=True)\n",
       "      (activation): Tanh()\n",
       "    )\n",
       "  )\n",
       "  (pre_classifier): Linear(in_features=768, out_features=768, bias=True)\n",
       "  (dropout): Dropout(p=0.8407955835921741, inplace=False)\n",
       "  (classifier): Linear(in_features=768, out_features=3, bias=True)\n",
       ")"
      ]
     },
     "execution_count": 19,
     "metadata": {},
     "output_type": "execute_result"
    }
   ],
   "source": [
    "# build the model and send it to the gpu\n",
    "model = CustomRoberta(best_param_dict['dropout_proportion'], NUM_CLASSES)\n",
    "model.to(device)"
   ]
  },
  {
   "cell_type": "code",
   "execution_count": 20,
   "metadata": {},
   "outputs": [],
   "source": [
    "# weight_tensor = torch.Tensor()\n",
    "\n",
    "# define loss and optimizer\n",
    "criterion = torch.nn.CrossEntropyLoss()\n",
    "optimizer = torch.optim.Adam(model.parameters(), lr=best_param_dict['learning_rate'])"
   ]
  },
  {
   "cell_type": "code",
   "execution_count": 21,
   "metadata": {
    "tags": []
   },
   "outputs": [
    {
     "name": "stdout",
     "output_type": "stream",
     "text": [
      "seed set...\n",
      "\n",
      "Epoch 0 ----------------------------------------\n"
     ]
    },
    {
     "name": "stderr",
     "output_type": "stream",
     "text": [
      "100%|██████████| 3/3 [00:03<00:00,  1.26s/batch, train_loss=0.804, train_acc=0.561, train_auc=0.518, train_f1=0.469, train_prec=0.469, train_rec=0.469]\n",
      "100%|██████████| 1/1 [00:00<00:00,  2.95batch/s, val_loss=0.573, val_acc=0.831, val_auc=0.606, val_f1=0.831, val_prec=0.831, val_rec=0.831]\n"
     ]
    },
    {
     "name": "stdout",
     "output_type": "stream",
     "text": [
      "saving model with best val_f1 '0.8306'...\n",
      "\n",
      "Epoch 1 ----------------------------------------\n"
     ]
    },
    {
     "name": "stderr",
     "output_type": "stream",
     "text": [
      "100%|██████████| 3/3 [00:02<00:00,  1.21batch/s, train_loss=0.67, train_acc=0.826, train_auc=0.492, train_f1=0.84, train_prec=0.84, train_rec=0.84]\n",
      "100%|██████████| 1/1 [00:00<00:00,  3.04batch/s, val_loss=0.543, val_acc=0.831, val_auc=0.578, val_f1=0.831, val_prec=0.831, val_rec=0.831]\n"
     ]
    },
    {
     "name": "stdout",
     "output_type": "stream",
     "text": [
      "\n",
      "Epoch 2 ----------------------------------------\n"
     ]
    },
    {
     "name": "stderr",
     "output_type": "stream",
     "text": [
      "100%|██████████| 3/3 [00:02<00:00,  1.22batch/s, train_loss=0.65, train_acc=0.825, train_auc=0.447, train_f1=0.836, train_prec=0.836, train_rec=0.836] \n",
      "100%|██████████| 1/1 [00:00<00:00,  3.06batch/s, val_loss=0.52, val_acc=0.831, val_auc=0.619, val_f1=0.831, val_prec=0.831, val_rec=0.831]\n"
     ]
    },
    {
     "name": "stdout",
     "output_type": "stream",
     "text": [
      "\n",
      "Epoch 3 ----------------------------------------\n"
     ]
    },
    {
     "name": "stderr",
     "output_type": "stream",
     "text": [
      "100%|██████████| 3/3 [00:02<00:00,  1.22batch/s, train_loss=0.396, train_acc=0.826, train_auc=0.583, train_f1=0.844, train_prec=0.844, train_rec=0.844]\n",
      "100%|██████████| 1/1 [00:00<00:00,  3.03batch/s, val_loss=0.512, val_acc=0.831, val_auc=0.67, val_f1=0.831, val_prec=0.831, val_rec=0.831]\n"
     ]
    },
    {
     "name": "stdout",
     "output_type": "stream",
     "text": [
      "\n",
      "Epoch 4 ----------------------------------------\n"
     ]
    },
    {
     "name": "stderr",
     "output_type": "stream",
     "text": [
      "100%|██████████| 3/3 [00:02<00:00,  1.22batch/s, train_loss=0.491, train_acc=0.825, train_auc=0.55, train_f1=0.82, train_prec=0.82, train_rec=0.82] \n",
      "100%|██████████| 1/1 [00:00<00:00,  3.09batch/s, val_loss=0.503, val_acc=0.831, val_auc=0.708, val_f1=0.831, val_prec=0.831, val_rec=0.831]\n"
     ]
    },
    {
     "name": "stdout",
     "output_type": "stream",
     "text": [
      "\n",
      "Epoch 5 ----------------------------------------\n"
     ]
    },
    {
     "name": "stderr",
     "output_type": "stream",
     "text": [
      "100%|██████████| 3/3 [00:02<00:00,  1.22batch/s, train_loss=0.387, train_acc=0.825, train_auc=0.553, train_f1=0.816, train_prec=0.816, train_rec=0.816]\n",
      "100%|██████████| 1/1 [00:00<00:00,  3.05batch/s, val_loss=0.502, val_acc=0.831, val_auc=0.745, val_f1=0.831, val_prec=0.831, val_rec=0.831]\n"
     ]
    },
    {
     "name": "stdout",
     "output_type": "stream",
     "text": [
      "\n",
      "Epoch 6 ----------------------------------------\n"
     ]
    },
    {
     "name": "stderr",
     "output_type": "stream",
     "text": [
      "100%|██████████| 3/3 [00:02<00:00,  1.21batch/s, train_loss=0.356, train_acc=0.828, train_auc=0.684, train_f1=0.816, train_prec=0.816, train_rec=0.816]\n",
      "100%|██████████| 1/1 [00:00<00:00,  3.11batch/s, val_loss=0.477, val_acc=0.831, val_auc=0.751, val_f1=0.831, val_prec=0.831, val_rec=0.831]\n"
     ]
    },
    {
     "name": "stdout",
     "output_type": "stream",
     "text": [
      "\n",
      "Epoch 7 ----------------------------------------\n"
     ]
    },
    {
     "name": "stderr",
     "output_type": "stream",
     "text": [
      "100%|██████████| 3/3 [00:02<00:00,  1.22batch/s, train_loss=0.34, train_acc=0.828, train_auc=0.783, train_f1=0.836, train_prec=0.836, train_rec=0.836] \n",
      "100%|██████████| 1/1 [00:00<00:00,  2.98batch/s, val_loss=0.401, val_acc=0.831, val_auc=0.834, val_f1=0.831, val_prec=0.831, val_rec=0.831]\n"
     ]
    },
    {
     "name": "stdout",
     "output_type": "stream",
     "text": [
      "\n",
      "Epoch 8 ----------------------------------------\n"
     ]
    },
    {
     "name": "stderr",
     "output_type": "stream",
     "text": [
      "100%|██████████| 3/3 [00:02<00:00,  1.20batch/s, train_loss=0.323, train_acc=0.852, train_auc=0.853, train_f1=0.852, train_prec=0.852, train_rec=0.852]\n",
      "100%|██████████| 1/1 [00:00<00:00,  3.07batch/s, val_loss=0.383, val_acc=0.842, val_auc=0.825, val_f1=0.842, val_prec=0.842, val_rec=0.842]\n"
     ]
    },
    {
     "name": "stdout",
     "output_type": "stream",
     "text": [
      "saving model with best val_f1 '0.8415'...\n",
      "\n",
      "Epoch 9 ----------------------------------------\n"
     ]
    },
    {
     "name": "stderr",
     "output_type": "stream",
     "text": [
      "100%|██████████| 3/3 [00:02<00:00,  1.19batch/s, train_loss=0.313, train_acc=0.881, train_auc=0.903, train_f1=0.883, train_prec=0.883, train_rec=0.883]\n",
      "100%|██████████| 1/1 [00:00<00:00,  3.01batch/s, val_loss=0.366, val_acc=0.847, val_auc=0.862, val_f1=0.847, val_prec=0.847, val_rec=0.847]\n"
     ]
    },
    {
     "name": "stdout",
     "output_type": "stream",
     "text": [
      "saving model with best val_f1 '0.8470'...\n",
      "\n",
      "Epoch 10 ----------------------------------------\n"
     ]
    },
    {
     "name": "stderr",
     "output_type": "stream",
     "text": [
      "100%|██████████| 3/3 [00:02<00:00,  1.21batch/s, train_loss=0.286, train_acc=0.901, train_auc=0.918, train_f1=0.883, train_prec=0.883, train_rec=0.883]\n",
      "100%|██████████| 1/1 [00:00<00:00,  3.09batch/s, val_loss=0.377, val_acc=0.869, val_auc=0.825, val_f1=0.869, val_prec=0.869, val_rec=0.869]\n"
     ]
    },
    {
     "name": "stdout",
     "output_type": "stream",
     "text": [
      "saving model with best val_f1 '0.8689'...\n",
      "\n",
      "Epoch 11 ----------------------------------------\n"
     ]
    },
    {
     "name": "stderr",
     "output_type": "stream",
     "text": [
      "100%|██████████| 3/3 [00:02<00:00,  1.19batch/s, train_loss=0.389, train_acc=0.92, train_auc=0.923, train_f1=0.934, train_prec=0.934, train_rec=0.934] \n",
      "100%|██████████| 1/1 [00:00<00:00,  3.11batch/s, val_loss=0.411, val_acc=0.863, val_auc=0.882, val_f1=0.863, val_prec=0.863, val_rec=0.863]\n"
     ]
    },
    {
     "name": "stdout",
     "output_type": "stream",
     "text": [
      "\n",
      "Epoch 12 ----------------------------------------\n"
     ]
    },
    {
     "name": "stderr",
     "output_type": "stream",
     "text": [
      "100%|██████████| 3/3 [00:02<00:00,  1.22batch/s, train_loss=0.215, train_acc=0.926, train_auc=0.928, train_f1=0.93, train_prec=0.93, train_rec=0.93]\n",
      "100%|██████████| 1/1 [00:00<00:00,  3.08batch/s, val_loss=0.409, val_acc=0.869, val_auc=0.843, val_f1=0.869, val_prec=0.869, val_rec=0.869]\n"
     ]
    },
    {
     "name": "stdout",
     "output_type": "stream",
     "text": [
      "\n",
      "Epoch 13 ----------------------------------------\n"
     ]
    },
    {
     "name": "stderr",
     "output_type": "stream",
     "text": [
      "100%|██████████| 3/3 [00:02<00:00,  1.21batch/s, train_loss=0.258, train_acc=0.948, train_auc=0.931, train_f1=0.938, train_prec=0.938, train_rec=0.938]\n",
      "100%|██████████| 1/1 [00:00<00:00,  3.05batch/s, val_loss=0.385, val_acc=0.858, val_auc=0.858, val_f1=0.858, val_prec=0.858, val_rec=0.858]\n"
     ]
    },
    {
     "name": "stdout",
     "output_type": "stream",
     "text": [
      "\n",
      "Epoch 14 ----------------------------------------\n"
     ]
    },
    {
     "name": "stderr",
     "output_type": "stream",
     "text": [
      "100%|██████████| 3/3 [00:02<00:00,  1.21batch/s, train_loss=0.214, train_acc=0.94, train_auc=0.949, train_f1=0.945, train_prec=0.945, train_rec=0.945] \n",
      "100%|██████████| 1/1 [00:00<00:00,  3.08batch/s, val_loss=0.442, val_acc=0.836, val_auc=0.837, val_f1=0.836, val_prec=0.836, val_rec=0.836]\n"
     ]
    },
    {
     "name": "stdout",
     "output_type": "stream",
     "text": [
      "\n",
      "Epoch 15 ----------------------------------------\n"
     ]
    },
    {
     "name": "stderr",
     "output_type": "stream",
     "text": [
      "100%|██████████| 3/3 [00:02<00:00,  1.21batch/s, train_loss=0.127, train_acc=0.946, train_auc=0.959, train_f1=0.949, train_prec=0.949, train_rec=0.949]\n",
      "100%|██████████| 1/1 [00:00<00:00,  3.09batch/s, val_loss=0.481, val_acc=0.842, val_auc=0.853, val_f1=0.842, val_prec=0.842, val_rec=0.842]\n"
     ]
    },
    {
     "name": "stdout",
     "output_type": "stream",
     "text": [
      "\n",
      "Epoch 16 ----------------------------------------\n"
     ]
    },
    {
     "name": "stderr",
     "output_type": "stream",
     "text": [
      "100%|██████████| 3/3 [00:02<00:00,  1.21batch/s, train_loss=0.114, train_acc=0.951, train_auc=0.948, train_f1=0.957, train_prec=0.957, train_rec=0.957]\n",
      "100%|██████████| 1/1 [00:00<00:00,  3.08batch/s, val_loss=0.541, val_acc=0.825, val_auc=0.735, val_f1=0.825, val_prec=0.825, val_rec=0.825]\n"
     ]
    },
    {
     "name": "stdout",
     "output_type": "stream",
     "text": [
      "\n",
      "Epoch 17 ----------------------------------------\n"
     ]
    },
    {
     "name": "stderr",
     "output_type": "stream",
     "text": [
      "100%|██████████| 3/3 [00:02<00:00,  1.19batch/s, train_loss=0.0935, train_acc=0.957, train_auc=0.954, train_f1=0.965, train_prec=0.965, train_rec=0.965]\n",
      "100%|██████████| 1/1 [00:00<00:00,  3.06batch/s, val_loss=0.76, val_acc=0.743, val_auc=0.853, val_f1=0.743, val_prec=0.743, val_rec=0.743]\n"
     ]
    },
    {
     "name": "stdout",
     "output_type": "stream",
     "text": [
      "\n",
      "Epoch 18 ----------------------------------------\n"
     ]
    },
    {
     "name": "stderr",
     "output_type": "stream",
     "text": [
      "100%|██████████| 3/3 [00:02<00:00,  1.19batch/s, train_loss=0.151, train_acc=0.929, train_auc=0.956, train_f1=0.895, train_prec=0.895, train_rec=0.895]\n",
      "100%|██████████| 1/1 [00:00<00:00,  3.08batch/s, val_loss=0.908, val_acc=0.842, val_auc=0.667, val_f1=0.842, val_prec=0.842, val_rec=0.842]\n"
     ]
    },
    {
     "name": "stdout",
     "output_type": "stream",
     "text": [
      "\n",
      "Epoch 19 ----------------------------------------\n"
     ]
    },
    {
     "name": "stderr",
     "output_type": "stream",
     "text": [
      "100%|██████████| 3/3 [00:02<00:00,  1.21batch/s, train_loss=0.163, train_acc=0.91, train_auc=0.895, train_f1=0.871, train_prec=0.871, train_rec=0.871] \n",
      "100%|██████████| 1/1 [00:00<00:00,  3.07batch/s, val_loss=0.472, val_acc=0.842, val_auc=0.86, val_f1=0.842, val_prec=0.842, val_rec=0.842]\n"
     ]
    },
    {
     "name": "stdout",
     "output_type": "stream",
     "text": [
      "\n",
      "Epoch 20 ----------------------------------------\n"
     ]
    },
    {
     "name": "stderr",
     "output_type": "stream",
     "text": [
      "100%|██████████| 3/3 [00:02<00:00,  1.21batch/s, train_loss=0.255, train_acc=0.933, train_auc=0.935, train_f1=0.957, train_prec=0.957, train_rec=0.957]\n",
      "100%|██████████| 1/1 [00:00<00:00,  3.08batch/s, val_loss=0.421, val_acc=0.852, val_auc=0.864, val_f1=0.852, val_prec=0.852, val_rec=0.852]\n"
     ]
    },
    {
     "name": "stdout",
     "output_type": "stream",
     "text": [
      "\n",
      "Epoch 21 ----------------------------------------\n"
     ]
    },
    {
     "name": "stderr",
     "output_type": "stream",
     "text": [
      "100%|██████████| 3/3 [00:02<00:00,  1.21batch/s, train_loss=0.331, train_acc=0.96, train_auc=0.952, train_f1=0.977, train_prec=0.977, train_rec=0.977] \n",
      "100%|██████████| 1/1 [00:00<00:00,  3.07batch/s, val_loss=0.417, val_acc=0.863, val_auc=0.881, val_f1=0.863, val_prec=0.863, val_rec=0.863]\n"
     ]
    },
    {
     "name": "stdout",
     "output_type": "stream",
     "text": [
      "\n",
      "Epoch 22 ----------------------------------------\n"
     ]
    },
    {
     "name": "stderr",
     "output_type": "stream",
     "text": [
      "100%|██████████| 3/3 [00:02<00:00,  1.20batch/s, train_loss=0.291, train_acc=0.962, train_auc=0.962, train_f1=0.977, train_prec=0.977, train_rec=0.977] \n",
      "100%|██████████| 1/1 [00:00<00:00,  3.07batch/s, val_loss=0.482, val_acc=0.88, val_auc=0.873, val_f1=0.88, val_prec=0.88, val_rec=0.88]\n"
     ]
    },
    {
     "name": "stdout",
     "output_type": "stream",
     "text": [
      "saving model with best val_f1 '0.8798'...\n",
      "\n",
      "Epoch 23 ----------------------------------------\n"
     ]
    },
    {
     "name": "stderr",
     "output_type": "stream",
     "text": [
      "100%|██████████| 3/3 [00:02<00:00,  1.20batch/s, train_loss=0.128, train_acc=0.964, train_auc=0.957, train_f1=0.949, train_prec=0.949, train_rec=0.949]\n",
      "100%|██████████| 1/1 [00:00<00:00,  3.06batch/s, val_loss=0.48, val_acc=0.858, val_auc=0.89, val_f1=0.858, val_prec=0.858, val_rec=0.858]\n"
     ]
    },
    {
     "name": "stdout",
     "output_type": "stream",
     "text": [
      "\n",
      "Epoch 24 ----------------------------------------\n"
     ]
    },
    {
     "name": "stderr",
     "output_type": "stream",
     "text": [
      "100%|██████████| 3/3 [00:02<00:00,  1.21batch/s, train_loss=0.071, train_acc=0.969, train_auc=0.965, train_f1=0.973, train_prec=0.973, train_rec=0.973]\n",
      "100%|██████████| 1/1 [00:00<00:00,  3.06batch/s, val_loss=0.518, val_acc=0.858, val_auc=0.873, val_f1=0.858, val_prec=0.858, val_rec=0.858]\n"
     ]
    },
    {
     "name": "stdout",
     "output_type": "stream",
     "text": [
      "\n",
      "Epoch 25 ----------------------------------------\n"
     ]
    },
    {
     "name": "stderr",
     "output_type": "stream",
     "text": [
      "100%|██████████| 3/3 [00:02<00:00,  1.21batch/s, train_loss=0.0721, train_acc=0.967, train_auc=0.976, train_f1=0.973, train_prec=0.973, train_rec=0.973]\n",
      "100%|██████████| 1/1 [00:00<00:00,  3.08batch/s, val_loss=0.556, val_acc=0.858, val_auc=0.869, val_f1=0.858, val_prec=0.858, val_rec=0.858]\n"
     ]
    },
    {
     "name": "stdout",
     "output_type": "stream",
     "text": [
      "\n",
      "Epoch 26 ----------------------------------------\n"
     ]
    },
    {
     "name": "stderr",
     "output_type": "stream",
     "text": [
      "100%|██████████| 3/3 [00:02<00:00,  1.21batch/s, train_loss=0.312, train_acc=0.971, train_auc=0.972, train_f1=0.973, train_prec=0.973, train_rec=0.973] \n",
      "100%|██████████| 1/1 [00:00<00:00,  3.06batch/s, val_loss=0.545, val_acc=0.852, val_auc=0.867, val_f1=0.852, val_prec=0.852, val_rec=0.852]\n"
     ]
    },
    {
     "name": "stdout",
     "output_type": "stream",
     "text": [
      "\n",
      "Epoch 27 ----------------------------------------\n"
     ]
    },
    {
     "name": "stderr",
     "output_type": "stream",
     "text": [
      "100%|██████████| 3/3 [00:02<00:00,  1.21batch/s, train_loss=0.0963, train_acc=0.971, train_auc=0.976, train_f1=0.957, train_prec=0.957, train_rec=0.957]\n",
      "100%|██████████| 1/1 [00:00<00:00,  3.07batch/s, val_loss=0.536, val_acc=0.847, val_auc=0.851, val_f1=0.847, val_prec=0.847, val_rec=0.847]\n"
     ]
    },
    {
     "name": "stdout",
     "output_type": "stream",
     "text": [
      "\n",
      "Epoch 28 ----------------------------------------\n"
     ]
    },
    {
     "name": "stderr",
     "output_type": "stream",
     "text": [
      "100%|██████████| 3/3 [00:02<00:00,  1.21batch/s, train_loss=0.129, train_acc=0.973, train_auc=0.977, train_f1=0.973, train_prec=0.973, train_rec=0.973] \n",
      "100%|██████████| 1/1 [00:00<00:00,  3.05batch/s, val_loss=0.595, val_acc=0.831, val_auc=0.868, val_f1=0.831, val_prec=0.831, val_rec=0.831]\n"
     ]
    },
    {
     "name": "stdout",
     "output_type": "stream",
     "text": [
      "\n",
      "Epoch 29 ----------------------------------------\n"
     ]
    },
    {
     "name": "stderr",
     "output_type": "stream",
     "text": [
      "100%|██████████| 3/3 [00:02<00:00,  1.20batch/s, train_loss=0.0329, train_acc=0.975, train_auc=0.981, train_f1=0.977, train_prec=0.977, train_rec=0.977]\n",
      "100%|██████████| 1/1 [00:00<00:00,  3.06batch/s, val_loss=0.586, val_acc=0.847, val_auc=0.853, val_f1=0.847, val_prec=0.847, val_rec=0.847]\n"
     ]
    },
    {
     "name": "stdout",
     "output_type": "stream",
     "text": [
      "\n",
      "Epoch 30 ----------------------------------------\n"
     ]
    },
    {
     "name": "stderr",
     "output_type": "stream",
     "text": [
      "100%|██████████| 3/3 [00:02<00:00,  1.20batch/s, train_loss=0.0152, train_acc=0.975, train_auc=0.984, train_f1=0.98, train_prec=0.98, train_rec=0.98]\n",
      "100%|██████████| 1/1 [00:00<00:00,  3.07batch/s, val_loss=0.602, val_acc=0.863, val_auc=0.846, val_f1=0.863, val_prec=0.863, val_rec=0.863]\n"
     ]
    },
    {
     "name": "stdout",
     "output_type": "stream",
     "text": [
      "\n",
      "Epoch 31 ----------------------------------------\n"
     ]
    },
    {
     "name": "stderr",
     "output_type": "stream",
     "text": [
      "100%|██████████| 3/3 [00:02<00:00,  1.20batch/s, train_loss=0.207, train_acc=0.976, train_auc=0.989, train_f1=0.969, train_prec=0.969, train_rec=0.969] \n",
      "100%|██████████| 1/1 [00:00<00:00,  3.06batch/s, val_loss=0.562, val_acc=0.863, val_auc=0.868, val_f1=0.863, val_prec=0.863, val_rec=0.863]\n"
     ]
    },
    {
     "name": "stdout",
     "output_type": "stream",
     "text": [
      "\n",
      "Epoch 32 ----------------------------------------\n"
     ]
    },
    {
     "name": "stderr",
     "output_type": "stream",
     "text": [
      "100%|██████████| 3/3 [00:02<00:00,  1.20batch/s, train_loss=0.0341, train_acc=0.978, train_auc=0.996, train_f1=0.977, train_prec=0.977, train_rec=0.977]\n",
      "100%|██████████| 1/1 [00:00<00:00,  3.05batch/s, val_loss=0.527, val_acc=0.863, val_auc=0.895, val_f1=0.863, val_prec=0.863, val_rec=0.863]\n"
     ]
    },
    {
     "name": "stdout",
     "output_type": "stream",
     "text": [
      "\n",
      "Epoch 33 ----------------------------------------\n"
     ]
    },
    {
     "name": "stderr",
     "output_type": "stream",
     "text": [
      "100%|██████████| 3/3 [00:02<00:00,  1.20batch/s, train_loss=0.0261, train_acc=0.982, train_auc=0.996, train_f1=0.984, train_prec=0.984, train_rec=0.984]\n",
      "100%|██████████| 1/1 [00:00<00:00,  3.05batch/s, val_loss=0.545, val_acc=0.842, val_auc=0.893, val_f1=0.842, val_prec=0.842, val_rec=0.842]\n"
     ]
    },
    {
     "name": "stdout",
     "output_type": "stream",
     "text": [
      "\n",
      "Epoch 34 ----------------------------------------\n"
     ]
    },
    {
     "name": "stderr",
     "output_type": "stream",
     "text": [
      "100%|██████████| 3/3 [00:02<00:00,  1.19batch/s, train_loss=0.0211, train_acc=0.995, train_auc=0.998, train_f1=0.988, train_prec=0.988, train_rec=0.988]\n",
      "100%|██████████| 1/1 [00:00<00:00,  3.05batch/s, val_loss=0.56, val_acc=0.825, val_auc=0.89, val_f1=0.825, val_prec=0.825, val_rec=0.825]\n"
     ]
    },
    {
     "name": "stdout",
     "output_type": "stream",
     "text": [
      "\n",
      "Epoch 35 ----------------------------------------\n"
     ]
    },
    {
     "name": "stderr",
     "output_type": "stream",
     "text": [
      "100%|██████████| 3/3 [00:02<00:00,  1.20batch/s, train_loss=0.0921, train_acc=0.996, train_auc=0.998, train_f1=0.996, train_prec=0.996, train_rec=0.996]\n",
      "100%|██████████| 1/1 [00:00<00:00,  3.06batch/s, val_loss=0.55, val_acc=0.836, val_auc=0.885, val_f1=0.836, val_prec=0.836, val_rec=0.836]\n"
     ]
    },
    {
     "name": "stdout",
     "output_type": "stream",
     "text": [
      "\n",
      "Epoch 36 ----------------------------------------\n"
     ]
    },
    {
     "name": "stderr",
     "output_type": "stream",
     "text": [
      "100%|██████████| 3/3 [00:02<00:00,  1.18batch/s, train_loss=0.025, train_acc=0.996, train_auc=1, train_f1=0.996, train_prec=0.996, train_rec=0.996] \n",
      "100%|██████████| 1/1 [00:00<00:00,  3.06batch/s, val_loss=0.556, val_acc=0.847, val_auc=0.873, val_f1=0.847, val_prec=0.847, val_rec=0.847]\n"
     ]
    },
    {
     "name": "stdout",
     "output_type": "stream",
     "text": [
      "\n",
      "Epoch 37 ----------------------------------------\n"
     ]
    },
    {
     "name": "stderr",
     "output_type": "stream",
     "text": [
      "100%|██████████| 3/3 [00:02<00:00,  1.21batch/s, train_loss=0.0124, train_acc=0.996, train_auc=0.999, train_f1=0.992, train_prec=0.992, train_rec=0.992]\n",
      "100%|██████████| 1/1 [00:00<00:00,  2.67batch/s, val_loss=0.59, val_acc=0.836, val_auc=0.838, val_f1=0.836, val_prec=0.836, val_rec=0.836]\n"
     ]
    },
    {
     "name": "stdout",
     "output_type": "stream",
     "text": [
      "\n",
      "Epoch 38 ----------------------------------------\n"
     ]
    },
    {
     "name": "stderr",
     "output_type": "stream",
     "text": [
      "100%|██████████| 3/3 [00:02<00:00,  1.20batch/s, train_loss=0.0125, train_acc=0.993, train_auc=1, train_f1=1, train_prec=1, train_rec=1]\n",
      "100%|██████████| 1/1 [00:00<00:00,  3.07batch/s, val_loss=0.636, val_acc=0.847, val_auc=0.823, val_f1=0.847, val_prec=0.847, val_rec=0.847]\n"
     ]
    },
    {
     "name": "stdout",
     "output_type": "stream",
     "text": [
      "\n",
      "Epoch 39 ----------------------------------------\n"
     ]
    },
    {
     "name": "stderr",
     "output_type": "stream",
     "text": [
      "100%|██████████| 3/3 [00:02<00:00,  1.19batch/s, train_loss=0.00468, train_acc=0.993, train_auc=0.999, train_f1=1, train_prec=1, train_rec=1]\n",
      "100%|██████████| 1/1 [00:00<00:00,  3.06batch/s, val_loss=0.623, val_acc=0.863, val_auc=0.809, val_f1=0.863, val_prec=0.863, val_rec=0.863]\n",
      "100%|██████████| 1/1 [00:00<00:00,  2.86batch/s]"
     ]
    },
    {
     "name": "stdout",
     "output_type": "stream",
     "text": [
      "test_loss: 0.5173\n",
      "test_acc: 0.8770\n",
      "test_auc: 0.8569\n",
      "test_f1: 0.8770\n",
      "test_prec: 0.8770\n",
      "test_rec: 0.8770\n"
     ]
    },
    {
     "name": "stderr",
     "output_type": "stream",
     "text": [
      "\n"
     ]
    }
   ],
   "source": [
    "loader_dict = {'train': train_loader, 'val': val_loader, 'test': test_loader}\n",
    "\n",
    "seed_script(SEED)\n",
    "\n",
    "train_out_tuple = train_model(\n",
    "    model, \n",
    "    loader_dict, \n",
    "    metric_collection, \n",
    "    criterion, \n",
    "    optimizer, \n",
    "    save_dir=\"./prov_sent_model_test_1\", \n",
    "    num_epochs=40, \n",
    "    monitor_metric='val_f1'\n",
    ")"
   ]
  },
  {
   "cell_type": "code",
   "execution_count": 22,
   "metadata": {},
   "outputs": [],
   "source": [
    "# model_save_path = \"/opt/localdata/Data/bea/nlp/bmi550/project/Chronic_Pain_Sentiment_NLP/models/provider_sentiment/tuning_temp/best_model_params.pth\"\n",
    "# model.load_state_dict(torch.load(model_save_path))\n",
    "\n",
    "# tweet_id_list, pred_list, label_list = evaluate_model(\n",
    "#     model, \n",
    "#     test_loader, \n",
    "#     metric_collection, \n",
    "#     criterion\n",
    "# )"
   ]
  },
  {
   "cell_type": "code",
   "execution_count": 29,
   "metadata": {},
   "outputs": [],
   "source": [
    "tweet_id_list, pred_list, label_list = train_out_tuple"
   ]
  },
  {
   "cell_type": "code",
   "execution_count": 37,
   "metadata": {},
   "outputs": [],
   "source": [
    "pred_list = pred_list[0]\n",
    "label_list = label_list[0]"
   ]
  },
  {
   "cell_type": "code",
   "execution_count": 46,
   "metadata": {},
   "outputs": [
    {
     "data": {
      "text/plain": [
       "array([1, 1, 1, 1, 1, 1, 1, 1, 0, 1, 1, 1, 1, 1, 1, 0, 1, 1, 1, 1, 1, 1,\n",
       "       1, 1, 1, 1, 1, 1, 1, 1, 1, 1, 1, 0, 1, 1, 1, 1, 1, 1, 1, 0, 1, 1,\n",
       "       1, 1, 0, 1, 1, 1, 2, 2, 1, 1, 0, 1, 1, 1, 0, 1, 2, 1, 0, 1, 1, 1,\n",
       "       1, 1, 0, 0, 1, 1, 1, 0, 1, 1, 1, 1, 1, 1, 1, 0, 0, 1, 0, 1, 1, 1,\n",
       "       1, 1, 1, 0, 1, 1, 1, 1, 1, 1, 1, 1, 0, 1, 1, 2, 1, 1, 0, 1, 1, 1,\n",
       "       1, 0, 1, 1, 1, 1, 1, 1, 1, 1, 0, 1, 1, 0, 1, 1, 1, 1, 1, 1, 1, 1,\n",
       "       0, 1, 1, 1, 1, 1, 1, 1, 1, 0, 1, 1, 1, 0, 1, 1, 1, 1, 1, 0, 1, 0,\n",
       "       1, 1, 1, 1, 1, 1, 1, 0, 0, 1, 1, 0, 1, 1, 1, 1, 1, 1, 1, 1, 1, 1,\n",
       "       1, 1, 1, 1, 1, 1, 1, 1, 0, 1, 0])"
      ]
     },
     "execution_count": 46,
     "metadata": {},
     "output_type": "execute_result"
    }
   ],
   "source": [
    "label_list"
   ]
  },
  {
   "cell_type": "code",
   "execution_count": 49,
   "metadata": {},
   "outputs": [
    {
     "data": {
      "text/plain": [
       "array([1, 1, 1, 1, 1, 1, 1, 1, 1, 1, 1, 1, 1, 1, 1, 1, 1, 1, 1, 1, 1, 1,\n",
       "       1, 1, 1, 1, 1, 1, 1, 1, 1, 1, 1, 1, 1, 1, 1, 1, 1, 1, 1, 1, 1, 1,\n",
       "       1, 1, 0, 1, 1, 1, 0, 0, 1, 1, 0, 1, 1, 1, 0, 1, 1, 1, 0, 1, 1, 1,\n",
       "       1, 1, 1, 0, 1, 1, 1, 1, 1, 1, 0, 1, 1, 1, 1, 1, 1, 1, 0, 1, 1, 0,\n",
       "       1, 1, 1, 1, 1, 1, 1, 1, 1, 1, 1, 1, 1, 1, 1, 0, 1, 1, 1, 1, 1, 1,\n",
       "       1, 1, 1, 1, 1, 1, 1, 1, 1, 1, 0, 1, 1, 1, 1, 1, 1, 1, 1, 1, 1, 1,\n",
       "       1, 1, 1, 1, 1, 1, 1, 1, 1, 1, 1, 1, 1, 0, 1, 1, 1, 1, 1, 1, 1, 0,\n",
       "       1, 1, 1, 1, 1, 1, 1, 0, 0, 1, 1, 0, 1, 1, 1, 1, 1, 1, 1, 1, 1, 1,\n",
       "       1, 1, 1, 1, 1, 1, 1, 1, 1, 1, 0])"
      ]
     },
     "execution_count": 49,
     "metadata": {},
     "output_type": "execute_result"
    }
   ],
   "source": [
    "pred_arr = pred_list.argmax(1).numpy()\n",
    "pred_arr"
   ]
  },
  {
   "cell_type": "code",
   "execution_count": 23,
   "metadata": {},
   "outputs": [
    {
     "data": {
      "text/plain": [
       "'\\n\\ntest_loss: 1.0728\\ntest_acc: 0.8182\\ntest_auc: 0.4687\\ntest_f1: 0.8182\\ntest_prec: 0.8182\\ntest_rec: 0.8182\\n\\n'"
      ]
     },
     "execution_count": 23,
     "metadata": {},
     "output_type": "execute_result"
    }
   ],
   "source": [
    "\"\"\"\n",
    "\n",
    "test_loss: 1.0728\n",
    "test_acc: 0.8182\n",
    "test_auc: 0.4687\n",
    "test_f1: 0.8182\n",
    "test_prec: 0.8182\n",
    "test_rec: 0.8182\n",
    "\n",
    "\"\"\""
   ]
  },
  {
   "cell_type": "markdown",
   "metadata": {},
   "source": [
    "**RoBERTa Sentiment Analysis Result**"
   ]
  },
  {
   "cell_type": "code",
   "execution_count": 38,
   "metadata": {},
   "outputs": [],
   "source": [
    "# Define the confusion matrix function for evaluation\n",
    "import seaborn as sns\n",
    "import matplotlib.pyplot as plt\n",
    "\n",
    "def conf_matrix(y, y_pred, title):\n",
    "    fig, ax =plt.subplots(figsize=(5,5))\n",
    "    labels=['Negative', 'Neutral', 'Positive']\n",
    "    ax=sns.heatmap(confusion_matrix(y, y_pred), annot=True, cmap=\"Blues\", fmt='g', cbar=False, annot_kws={\"size\":25})\n",
    "    plt.title(title, fontsize=20)\n",
    "    ax.xaxis.set_ticklabels(labels, fontsize=17) \n",
    "    ax.yaxis.set_ticklabels(labels, fontsize=17)\n",
    "    ax.set_ylabel('Test', fontsize=20)\n",
    "    ax.set_xlabel('Predicted', fontsize=20)\n",
    "    plt.show()"
   ]
  },
  {
   "cell_type": "code",
   "execution_count": 25,
   "metadata": {},
   "outputs": [],
   "source": []
  },
  {
   "cell_type": "code",
   "execution_count": 52,
   "metadata": {},
   "outputs": [
    {
     "data": {
      "image/png": "[encoded data removed]",
      "text/plain": [
       "<Figure size 500x500 with 1 Axes>"
      ]
     },
     "metadata": {},
     "output_type": "display_data"
    }
   ],
   "source": [
    "conf_matrix(label_list, pred_arr,'RoBERTa Provider Sentiment Analysis\\nConfusion Matrix')"
   ]
  },
  {
   "cell_type": "code",
   "execution_count": 51,
   "metadata": {},
   "outputs": [
    {
     "name": "stdout",
     "output_type": "stream",
     "text": [
      "\tClassification Report for RoBERTa:\n",
      "\n",
      "               precision    recall  f1-score   support\n",
      "\n",
      "    Negative       0.72      0.43      0.54        30\n",
      "     Neutral       0.89      0.99      0.94       153\n",
      "    Positive       0.00      0.00      0.00         4\n",
      "\n",
      "    accuracy                           0.88       187\n",
      "   macro avg       0.54      0.47      0.49       187\n",
      "weighted avg       0.85      0.88      0.85       187\n",
      "\n"
     ]
    },
    {
     "name": "stderr",
     "output_type": "stream",
     "text": [
      "/home/tbrow51/.local/lib/python3.9/site-packages/sklearn/metrics/_classification.py:1469: UndefinedMetricWarning: Precision and F-score are ill-defined and being set to 0.0 in labels with no predicted samples. Use `zero_division` parameter to control this behavior.\n",
      "  _warn_prf(average, modifier, msg_start, len(result))\n",
      "/home/tbrow51/.local/lib/python3.9/site-packages/sklearn/metrics/_classification.py:1469: UndefinedMetricWarning: Precision and F-score are ill-defined and being set to 0.0 in labels with no predicted samples. Use `zero_division` parameter to control this behavior.\n",
      "  _warn_prf(average, modifier, msg_start, len(result))\n",
      "/home/tbrow51/.local/lib/python3.9/site-packages/sklearn/metrics/_classification.py:1469: UndefinedMetricWarning: Precision and F-score are ill-defined and being set to 0.0 in labels with no predicted samples. Use `zero_division` parameter to control this behavior.\n",
      "  _warn_prf(average, modifier, msg_start, len(result))\n"
     ]
    }
   ],
   "source": [
    "print(\n",
    "    '\\tClassification Report for RoBERTa:\\n\\n', \n",
    "    classification_report(\n",
    "        label_list, \n",
    "        pred_arr, \n",
    "        target_names=['Negative', 'Neutral', 'Positive']\n",
    "    )\n",
    ")"
   ]
  },
  {
   "cell_type": "code",
   "execution_count": null,
   "metadata": {},
   "outputs": [],
   "source": []
  }
 ],
 "metadata": {
  "kernelspec": {
   "display_name": "transformers",
   "language": "python",
   "name": "transformers"
  },
  "language_info": {
   "codemirror_mode": {
    "name": "ipython",
    "version": 3
   },
   "file_extension": ".py",
   "mimetype": "text/x-python",
   "name": "python",
   "nbconvert_exporter": "python",
   "pygments_lexer": "ipython3",
   "version": "3.9.18"
  }
 },
 "nbformat": 4,
 "nbformat_minor": 4
}
